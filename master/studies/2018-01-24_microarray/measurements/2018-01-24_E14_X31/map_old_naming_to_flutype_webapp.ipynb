{
 "cells": [
  {
   "cell_type": "code",
   "execution_count": 1,
   "metadata": {
    "collapsed": true
   },
   "outputs": [],
   "source": [
    "import pandas as pd\n",
    "import numpy as np"
   ]
  },
  {
   "cell_type": "code",
   "execution_count": 3,
   "metadata": {},
   "outputs": [],
   "source": [
    "output = pd.read_csv(\"lig_fix.txt\", sep='\\t', index_col=\"ID\")\n"
   ]
  },
  {
   "cell_type": "code",
   "execution_count": 22,
   "metadata": {},
   "outputs": [],
   "source": [
    "mapping ={'Pep 10_0.25':'P10025','Pep 10_0.50':'P10050'}\n",
    "mapping = {'Pep 10_0.25':'P10025',\n",
    "           'Pep 10_0.50':'P10050',\n",
    "           'LF_0.25': 'DYE025', \n",
    "           'LF_0.5': 'DYE050', \n",
    "           'LF_1.0':'DYE100',  \n",
    "           'Pep 11_0.25':'0.25_pep11',\n",
    "           'Pep 11_0.5' :'0.5_pep11',\n",
    "           'Pep 11_1.0':'1.0_pep11',\n",
    "           'Pep 12_0.25':'0.25_pep12',\n",
    "           'Pep 12_0.5' :'0.5_pep12',\n",
    "           'Pep 12_1.0':'1.0_pep12',\n",
    "           'Pep 13_0.25':'0.25_pep13',\n",
    "           'Pep 13_0.5' :'0.5_pep13',\n",
    "           'Pep 13_1.0':'1.0_pep13',\n",
    "           'Pep 14_0.25':'0.25_pep14',\n",
    "           'Pep 14_0.5' :'0.5_pep14',\n",
    "           'Pep 14_1.0':'1.0_pep14',\n",
    "           'Pep 49_0.25':'0.25_pep49',\n",
    "           'Pep 49_0.5' :'0.5_pep49',\n",
    "           'Pep 49_1.0':'1.0_pep49',\n",
    "           'Pep 50_0.25':'0.25_pep50',\n",
    "           'Pep 50_0.5' :'0.5_pep50',\n",
    "           'Pep 50_1.0':'1.0_pep50',\n",
    "           \n",
    "           'Pep 52_0.25':'0.25_pep52',\n",
    "           'Pep 52_0.5' :'0.5_pep52',\n",
    "           'Pep 52_1.0':'1.0_pep52',\n",
    "           \n",
    "           'Pep 61_0.25':'0.25_pep61',\n",
    "           'Pep 61_0.5' :'0.5_pep61',\n",
    "           'Pep 61_1.0':'1.0_pep61',\n",
    "           'Pep 6_0.25':'P001-025',\n",
    "           'Pep 6_0.5':'P001-05',\n",
    "           'Pep 6_1.0':'P001-1',\n",
    "           'Pep6 _0.25':'P001-025',\n",
    "          'No':'NO'}\n",
    "for key in mapping:\n",
    "    output.replace(key,mapping[key], inplace=True)"
   ]
  },
  {
   "cell_type": "code",
   "execution_count": 25,
   "metadata": {},
   "outputs": [],
   "source": [
    "output.to_csv(\"lig_fix1.txt\", sep=str('\\t'), index=\"True\", encoding='utf-8')\n"
   ]
  },
  {
   "cell_type": "code",
   "execution_count": null,
   "metadata": {
    "collapsed": true
   },
   "outputs": [],
   "source": []
  }
 ],
 "metadata": {
  "kernelspec": {
   "display_name": "flutype_webapp",
   "language": "python",
   "name": "flutype_webapp"
  },
  "language_info": {
   "codemirror_mode": {
    "name": "ipython",
    "version": 2
   },
   "file_extension": ".py",
   "mimetype": "text/x-python",
   "name": "python",
   "nbconvert_exporter": "python",
   "pygments_lexer": "ipython2",
   "version": "2.7.12"
  }
 },
 "nbformat": 4,
 "nbformat_minor": 2
}
