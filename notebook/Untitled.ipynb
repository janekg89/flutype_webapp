{
 "cells": [
  {
   "cell_type": "code",
   "execution_count": 56,
   "metadata": {},
   "outputs": [],
   "source": [
    "import os\n",
    "import csv\n"
   ]
  },
  {
   "cell_type": "code",
   "execution_count": 57,
   "metadata": {
    "collapsed": true
   },
   "outputs": [],
   "source": [
    "def read_tsv_diconary(fpath):\n",
    "    d={}\n",
    "    with open(fpath, 'r') as f:\n",
    "        for line in f:\n",
    "            line =line.split(\"\\t\")\n",
    "            if len(line) == 1:\n",
    "                line.append(\"\")\n",
    "            key = line[0].strip()\n",
    "            value = line[1].strip()\n",
    "            if value == \"TRUE\":\n",
    "                value = True\n",
    "            if value == \"\":\n",
    "                value = None\n",
    "            if value ==\"FALSE\":\n",
    "                value = False\n",
    "            d[key] = value\n",
    "\n",
    "    return d"
   ]
  },
  {
   "cell_type": "code",
   "execution_count": 58,
   "metadata": {},
   "outputs": [],
   "source": [
    "directory = \"/home/janekg89/Develop/Pycharm_Projects/flutype_webapp/master/studies\"\n"
   ]
  },
  {
   "cell_type": "code",
   "execution_count": null,
   "metadata": {},
   "outputs": [],
   "source": []
  },
  {
   "cell_type": "code",
   "execution_count": null,
   "metadata": {},
   "outputs": [],
   "source": []
  },
  {
   "cell_type": "code",
   "execution_count": null,
   "metadata": {},
   "outputs": [],
   "source": [
    "\n"
   ]
  },
  {
   "cell_type": "code",
   "execution_count": 74,
   "metadata": {},
   "outputs": [
    {
     "name": "stdout",
     "output_type": "stream",
     "text": [
      "{'comment': None, 'status': 'FINISHED', 'measurement_type': 'microwell', 'functionalization': '3D-NHS', 'hidden': True, 'batch_sid': '161118', 'manufacturer': 'PolyAn'}\n",
      "{'comment': None, 'status': 'FINISHED', 'measurement_type': 'microarray', 'functionalization': '3D-NHS', 'hidden': True, 'batch_sid': 'ABC123_321', 'manufacturer': 'PolyAn'}\n",
      "{'comment': None, 'status': 'FINISHED', 'measurement_type': 'elisa', 'functionalization': 'No', 'hidden': True, 'batch_sid': '12345689', 'manufacturer': 'Thermo F96 Maxisorp'}\n"
     ]
    }
   ],
   "source": [
    "for root, dirs, files in os.walk(directory):\n",
    "    for dir in dirs:\n",
    "        if dir ==\"measurements\":\n",
    "            new_dir = os.path.join(root,dir)\n",
    "            \n",
    "            for dirs in os.listdir(new_dir):\n",
    "                meta_path =  os.path.join(new_dir,dirs,\"meta.tsv\")\n",
    "                d = read_tsv_diconary(meta_path)\n",
    "                if \"status\" in d:\n",
    "                    print(d)\n",
    "                    \n",
    "                    \n",
    "                    \n",
    "              \n",
    "                    \n",
    "                    "
   ]
  },
  {
   "cell_type": "code",
   "execution_count": 79,
   "metadata": {
    "collapsed": true
   },
   "outputs": [],
   "source": [
    "from pytz import timezone\n",
    "import datetime"
   ]
  },
  {
   "cell_type": "code",
   "execution_count": 84,
   "metadata": {},
   "outputs": [],
   "source": [
    "tim = \"01-01-1989 9:30\"\n",
    "dt = datetime.datetime.strptime(tim, '%d-%m-%Y %H:%M')\n",
    "berlin = timezone('Europe/Berlin')\n",
    " #tzinfo="
   ]
  },
  {
   "cell_type": "code",
   "execution_count": 78,
   "metadata": {},
   "outputs": [
    {
     "ename": "NameError",
     "evalue": "name 'loc_dt' is not defined",
     "traceback": [
      "\u001b[0;31m---------------------------------------------------------------------------\u001b[0m",
      "\u001b[0;31mNameError\u001b[0m                                 Traceback (most recent call last)",
      "\u001b[0;32m<ipython-input-78-eba2968ede7f>\u001b[0m in \u001b[0;36m<module>\u001b[0;34m()\u001b[0m\n\u001b[0;32m----> 1\u001b[0;31m \u001b[0mberlin_dt\u001b[0m \u001b[0;34m=\u001b[0m \u001b[0mloc_dt\u001b[0m\u001b[0;34m.\u001b[0m\u001b[0mastimezone\u001b[0m\u001b[0;34m(\u001b[0m\u001b[0mBerlin\u001b[0m\u001b[0;34m)\u001b[0m\u001b[0;34m\u001b[0m\u001b[0m\n\u001b[0m",
      "\u001b[0;31mNameError\u001b[0m: name 'loc_dt' is not defined"
     ],
     "output_type": "error"
    }
   ],
   "source": [
    "berlin_dt = loc_dt.astimezone(Berlin)"
   ]
  },
  {
   "cell_type": "code",
   "execution_count": null,
   "metadata": {
    "collapsed": true
   },
   "outputs": [],
   "source": []
  }
 ],
 "metadata": {
  "kernelspec": {
   "display_name": "flutype_webapp",
   "language": "python",
   "name": "flutype_webapp"
  },
  "language_info": {
   "codemirror_mode": {
    "name": "ipython",
    "version": 2
   },
   "file_extension": ".py",
   "mimetype": "text/x-python",
   "name": "python",
   "nbconvert_exporter": "python",
   "pygments_lexer": "ipython2",
   "version": "2.7.12"
  }
 },
 "nbformat": 4,
 "nbformat_minor": 2
}
