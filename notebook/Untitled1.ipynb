{
 "cells": [
  {
   "cell_type": "code",
   "execution_count": 1,
   "metadata": {
    "collapsed": true
   },
   "outputs": [],
   "source": [
    "from xml.dom import minidom\n",
    "import svgwrite\n"
   ]
  },
  {
   "cell_type": "code",
   "execution_count": 2,
   "metadata": {
    "collapsed": true
   },
   "outputs": [],
   "source": [
    "svg_file = \"test_mit_grid.jpg.svg\""
   ]
  },
  {
   "cell_type": "code",
   "execution_count": 3,
   "metadata": {
    "collapsed": true
   },
   "outputs": [],
   "source": [
    "doc = minidom.parse(svg_file)  # parseString also exists\n"
   ]
  },
  {
   "cell_type": "code",
   "execution_count": 4,
   "metadata": {},
   "outputs": [],
   "source": [
    "path_strings = [path.getAttribute('d') for path\n",
    "                in doc.getElementsByTagName('path')]\n",
    "doc.unlink()\n"
   ]
  },
  {
   "cell_type": "code",
   "execution_count": 5,
   "metadata": {},
   "outputs": [
    {
     "name": "stdout",
     "output_type": "stream",
     "text": [
      "[u'm 20,0 0,200', u'm 40,0 0,200', u'm 60,0 0,200', u'm 80,0 0,200', u'm 100,0 0,200', u'm 120,0 0,200', u'm 140,0 0,200', u'm 160,0 0,200', u'm 180,0 0,200', u'm 0,20 200,0', u'm 0,40 200,0', u'm 0,60 200,0', u'm 0,80 200,0', u'm 0,100 200,0', u'm 0,120 200,0', u'm 0,140 200,0', u'm 0,160 200,0', u'm 0,180 200,0', u'm 20,0 0,200', u'm 40,0 0,200', u'm 60,0 0,200', u'm 80,0 0,200', u'm 100,0 0,200', u'm 120,0 0,200', u'm 140,0 0,200', u'm 160,0 0,200', u'm 180,0 0,200', u'm 0,20 200,0', u'm 0,40 200,0', u'm 0,60 200,0', u'm 0,80 200,0', u'm 0,100 200,0', u'm 0,120 200,0', u'm 0,140 200,0', u'm 0,160 200,0', u'm 0,180 200,0', u'm 20,0 0,200', u'm 40,0 0,200', u'm 60,0 0,200', u'm 80,0 0,200', u'm 100,0 0,200', u'm 120,0 0,200', u'm 140,0 0,200', u'm 160,0 0,200', u'm 180,0 0,200', u'm 0,20 200,0', u'm 0,40 200,0', u'm 0,60 200,0', u'm 0,80 200,0', u'm 0,100 200,0', u'm 0,120 200,0', u'm 0,140 200,0', u'm 0,160 200,0', u'm 0,180 200,0']\n"
     ]
    }
   ],
   "source": [
    "print(path_strings)"
   ]
  },
  {
   "cell_type": "code",
   "execution_count": 6,
   "metadata": {
    "collapsed": true
   },
   "outputs": [],
   "source": []
  },
  {
   "cell_type": "code",
   "execution_count": 7,
   "metadata": {},
   "outputs": [
    {
     "name": "stdout",
     "output_type": "stream",
     "text": [
      "<svgwrite.drawing.Drawing object at 0x7f5554594c50>\n"
     ]
    }
   ],
   "source": []
  },
  {
   "cell_type": "code",
   "execution_count": 11,
   "metadata": {},
   "outputs": [
    {
     "name": "stdout",
     "output_type": "stream",
     "text": [
      "<svgwrite.container.Defs object at 0x7f5554594850>\n"
     ]
    }
   ],
   "source": []
  },
  {
   "cell_type": "code",
   "execution_count": 21,
   "metadata": {},
   "outputs": [
    {
     "name": "stdout",
     "output_type": "stream",
     "text": [
      "None\n"
     ]
    }
   ],
   "source": [
    "import cv2\n",
    "imag = cv2.imread(svg_file)\n",
    "print(imag)"
   ]
  },
  {
   "cell_type": "code",
   "execution_count": 20,
   "metadata": {},
   "outputs": [
    {
     "ename": "error",
     "evalue": "/io/opencv/modules/highgui/src/window.cpp:325: error: (-215) size.width>0 && size.height>0 in function imshow\n",
     "output_type": "error",
     "traceback": [
      "\u001b[0;31m---------------------------------------------------------------------------\u001b[0m",
      "\u001b[0;31merror\u001b[0m                                     Traceback (most recent call last)",
      "\u001b[0;32m<ipython-input-20-00cb5ec564ab>\u001b[0m in \u001b[0;36m<module>\u001b[0;34m()\u001b[0m\n\u001b[0;32m----> 1\u001b[0;31m \u001b[0mcv2\u001b[0m\u001b[0;34m.\u001b[0m\u001b[0mimshow\u001b[0m\u001b[0;34m(\u001b[0m\u001b[0;34m'image'\u001b[0m\u001b[0;34m,\u001b[0m\u001b[0mimag\u001b[0m\u001b[0;34m)\u001b[0m\u001b[0;34m\u001b[0m\u001b[0m\n\u001b[0m",
      "\u001b[0;31merror\u001b[0m: /io/opencv/modules/highgui/src/window.cpp:325: error: (-215) size.width>0 && size.height>0 in function imshow\n"
     ]
    }
   ],
   "source": []
  },
  {
   "cell_type": "code",
   "execution_count": null,
   "metadata": {
    "collapsed": true
   },
   "outputs": [],
   "source": []
  }
 ],
 "metadata": {
  "kernelspec": {
   "display_name": "flutype_webapp",
   "language": "python",
   "name": "flutype_webapp"
  },
  "language_info": {
   "codemirror_mode": {
    "name": "ipython",
    "version": 2
   },
   "file_extension": ".py",
   "mimetype": "text/x-python",
   "name": "python",
   "nbconvert_exporter": "python",
   "pygments_lexer": "ipython2",
   "version": "2.7.12"
  }
 },
 "nbformat": 4,
 "nbformat_minor": 2
}
