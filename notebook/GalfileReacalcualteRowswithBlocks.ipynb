{
 "cells": [
  {
   "cell_type": "code",
   "execution_count": 63,
   "metadata": {},
   "outputs": [],
   "source": [
    "import csv\n",
    "import pandas as pd\n",
    "import numpy as np"
   ]
  },
  {
   "cell_type": "code",
   "execution_count": 64,
   "metadata": {},
   "outputs": [],
   "source": [
    "### load\n",
    "fpath = \"2018-01-24_E14_X31_pep.gal\"\n",
    "fpath_vir = \"2018-01-24_E14_X31_vir.gal\"\n",
    "\n",
    "this_gal = pd.read_csv(fpath, sep='\\t', index_col=\"ID\", dtype=str)\n",
    "\n",
    "\n",
    "# rewrite row\n",
    "def new_row(block, old_row):\n",
    "    return ((block-1)*12) + old_row"
   ]
  },
  {
   "cell_type": "code",
   "execution_count": 65,
   "metadata": {},
   "outputs": [],
   "source": [
    "#change 'blank'\n",
    "this_gal.replace(['blank'], ['NO'], inplace=True)\n",
    "\n",
    "#new row\n",
    "this_gal[\"NewRow\"] = new_row(this_gal[\"Block\"].astype(int),this_gal[\"Row\"].astype(int))\n",
    "this_gal[\"Row\"] = this_gal[\"NewRow\"]\n",
    "del this_gal[\"NewRow\"]\n",
    "\n",
    "# change index\n",
    "this_gal.index = [i for i, _ in enumerate(this_gal[\"Block\"])]"
   ]
  },
  {
   "cell_type": "code",
   "execution_count": 66,
   "metadata": {},
   "outputs": [],
   "source": [
    "this_gal.to_csv(\"new_\"+fpath, sep='\\t', index=True,index_label='ID' )"
   ]
  },
  {
   "cell_type": "code",
   "execution_count": 67,
   "metadata": {},
   "outputs": [],
   "source": [
    "virus_gal = this_gal\n",
    "virus_gal[\"Name\"]='X31A'\n",
    "virus_gal.to_csv(\"new_\"+fpath_vir, sep='\\t', index=True, index_label='ID' )"
   ]
  },
  {
   "cell_type": "code",
   "execution_count": null,
   "metadata": {
    "collapsed": true
   },
   "outputs": [],
   "source": []
  }
 ],
 "metadata": {
  "kernelspec": {
   "display_name": "flutype_webapp",
   "language": "python",
   "name": "flutype_webapp"
  },
  "language_info": {
   "codemirror_mode": {
    "name": "ipython",
    "version": 2
   },
   "file_extension": ".py",
   "mimetype": "text/x-python",
   "name": "python",
   "nbconvert_exporter": "python",
   "pygments_lexer": "ipython2",
   "version": "2.7.12"
  }
 },
 "nbformat": 4,
 "nbformat_minor": 2
}
