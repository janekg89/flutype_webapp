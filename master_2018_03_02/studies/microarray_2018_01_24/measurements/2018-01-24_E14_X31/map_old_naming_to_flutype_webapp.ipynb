{
 "cells": [
  {
   "cell_type": "code",
   "execution_count": 1,
   "metadata": {
    "collapsed": true
   },
   "outputs": [],
   "source": [
    "import pandas as pd\n",
    "import numpy as np"
   ]
  },
  {
   "cell_type": "code",
   "execution_count": 24,
   "metadata": {},
   "outputs": [
    {
     "data": {
      "text/plain": [
       "{'0.25_pep11': 'P011-0.25',\n",
       " '0.25_pep12': 'P012-0.25',\n",
       " '0.25_pep13': 'P013-0.25',\n",
       " '0.25_pep14': 'P014-0.25',\n",
       " '0.25_pep49': 'P049-0.25',\n",
       " '0.25_pep50': 'P050-0.25',\n",
       " '0.25_pep52': 'P052-0.25',\n",
       " '0.25_pep61': 'P061-0.25',\n",
       " '0.5_pep11': 'P011-0.5',\n",
       " '0.5_pep12': 'P012-0.5',\n",
       " '0.5_pep13': 'P013-0.5',\n",
       " '0.5_pep14': 'P014-0.5',\n",
       " '0.5_pep49': 'P049-0.5',\n",
       " '0.5_pep50': 'P050-0.5',\n",
       " '0.5_pep52': 'P052-0.5',\n",
       " '0.5_pep61': 'P061-0.5',\n",
       " '1.0_pep11': 'P011-1',\n",
       " '1.0_pep12': 'P012-1',\n",
       " '1.0_pep13': 'P013-1',\n",
       " '1.0_pep14': 'P014-1',\n",
       " '1.0_pep49': 'P049-1',\n",
       " '1.0_pep50': 'P050-1',\n",
       " '1.0_pep52': 'P052-1',\n",
       " '1.0_pep61': 'P061-1',\n",
       " 'AK Cal 28666': 'AK_Cal_28666',\n",
       " 'AK Cal 28667': 'AK_Cal_28667',\n",
       " 'AK x31 3125': 'AK_X31_3125',\n",
       " 'DYE025': 'LF-0.25',\n",
       " 'DYE050': 'LF-0.5',\n",
       " 'DYE100': 'LF-1',\n",
       " 'Kloeamind': 'P031',\n",
       " 'Kloes?re': 'P030',\n",
       " 'LF': 'LF',\n",
       " 'NO': 'NO',\n",
       " 'Nenad': 'Nenad',\n",
       " 'P001-025': 'P001-0.25',\n",
       " 'P001-05': 'P001-0.5',\n",
       " 'P001-1': 'P001-1',\n",
       " 'P10025': 'P010-0.25',\n",
       " 'P10050': 'P010-0.5',\n",
       " 'P10100': 'P010-1',\n",
       " 'Pep_10': 'P010',\n",
       " 'Pep_100': 'P100',\n",
       " 'Pep_101': 'P101',\n",
       " 'Pep_102': 'P102',\n",
       " 'Pep_103': 'P103',\n",
       " 'Pep_104': 'P104',\n",
       " 'Pep_105': 'P105',\n",
       " 'Pep_106': 'P106',\n",
       " 'Pep_114': 'P114',\n",
       " 'Pep_115': 'P115',\n",
       " 'Pep_116': 'P116',\n",
       " 'Pep_117': 'P117',\n",
       " 'Pep_118': 'P118',\n",
       " 'Pep_119': 'P119',\n",
       " 'Pep_12': 'P012',\n",
       " 'Pep_120': 'P120',\n",
       " 'Pep_121': 'P121',\n",
       " 'Pep_122': 'P122',\n",
       " 'Pep_123': 'P123',\n",
       " 'Pep_124': 'P124',\n",
       " 'Pep_125': 'P125',\n",
       " 'Pep_127': 'P127',\n",
       " 'Pep_128': 'P128',\n",
       " 'Pep_13': 'P013',\n",
       " 'Pep_130': 'P130',\n",
       " 'Pep_131.1': 'P131.1',\n",
       " 'Pep_131.2': 'P131.2',\n",
       " 'Pep_132': 'P132',\n",
       " 'Pep_133': 'P133',\n",
       " 'Pep_134': 'P134',\n",
       " 'Pep_135': 'P135',\n",
       " 'Pep_136': 'P136',\n",
       " 'Pep_43': 'P043',\n",
       " 'Pep_44': 'P044',\n",
       " 'Pep_45 III': 'P045.3',\n",
       " 'Pep_47': 'P047',\n",
       " 'Pep_48': 'P048',\n",
       " 'Pep_50': 'P050',\n",
       " 'Pep_52': 'P052',\n",
       " 'Pep_54': 'P054',\n",
       " 'Pep_55': 'P055',\n",
       " 'Pep_56': 'P056',\n",
       " 'Pep_57': 'P057',\n",
       " 'Pep_59': 'P059',\n",
       " 'Pep_60': 'P060',\n",
       " 'Pep_61': 'P061',\n",
       " 'Pep_63': 'P063',\n",
       " 'Pep_65': 'P065',\n",
       " 'Pep_66': 'P066',\n",
       " 'Pep_67': 'P067',\n",
       " 'Pep_68': 'P068',\n",
       " 'Pep_69': 'P069',\n",
       " 'Pep_7': 'P007',\n",
       " 'Pep_70': 'P070',\n",
       " 'Pep_71': 'P071',\n",
       " 'Pep_72': 'P072',\n",
       " 'Pep_73': 'P073',\n",
       " 'Pep_74': 'P074',\n",
       " 'Pep_75': 'P075',\n",
       " 'Pep_76': 'P076',\n",
       " 'Pep_77': 'P077',\n",
       " 'Pep_8': 'P008',\n",
       " 'Pep_80': 'P080',\n",
       " 'Pep_81': 'P081',\n",
       " 'Pep_82': 'P082',\n",
       " 'Pep_83': 'P083',\n",
       " 'Pep_84': 'P084',\n",
       " 'Pep_86': 'P086',\n",
       " 'Pep_88': 'P088',\n",
       " 'Pep_89': 'P089',\n",
       " 'Pep_9': 'P009',\n",
       " 'Pep_90': 'P090',\n",
       " 'Pep_91': 'P091',\n",
       " 'Pep_94': 'P094',\n",
       " 'Pep_95': 'P095',\n",
       " 'Pep_96': 'P096',\n",
       " 'Pep_98': 'P098',\n",
       " 'blank': 'NO'}"
      ]
     },
     "execution_count": 24,
     "metadata": {},
     "output_type": "execute_result"
    }
   ],
   "source": [
    "#output = pd.read_csv(\"lig_fix.txt\", sep='\\t', index_col=\"ID\")\n",
    "PEP_MAP = pd.read_csv(\"gal_mapping.csv\",sep='\\t', dtype=str)\n",
    "PEP_MAP = pd.Series(PEP_MAP.new.values,PEP_MAP.old).to_dict()\n",
    "PEP_MAP"
   ]
  },
  {
   "cell_type": "code",
   "execution_count": 22,
   "metadata": {
    "collapsed": true
   },
   "outputs": [],
   "source": []
  },
  {
   "cell_type": "code",
   "execution_count": 25,
   "metadata": {
    "collapsed": true
   },
   "outputs": [],
   "source": []
  },
  {
   "cell_type": "code",
   "execution_count": null,
   "metadata": {},
   "outputs": [],
   "source": []
  },
  {
   "cell_type": "code",
   "execution_count": 25,
   "metadata": {},
   "outputs": [],
   "source": [
    "new_gal = output[\"Name\"].map(PEP_MAP)\n",
    "new_gal.to_csv(\"lig_fix1.txt\", sep=str('\\t'), index=\"True\", encoding='utf-8')\n"
   ]
  },
  {
   "cell_type": "code",
   "execution_count": null,
   "metadata": {
    "collapsed": true
   },
   "outputs": [],
   "source": []
  }
 ],
 "metadata": {
  "kernelspec": {
   "display_name": "flutype_webapp",
   "language": "python",
   "name": "flutype_webapp"
  },
  "language_info": {
   "codemirror_mode": {
    "name": "ipython",
    "version": 3
   },
   "file_extension": ".py",
   "mimetype": "text/x-python",
   "name": "python",
   "nbconvert_exporter": "python",
   "pygments_lexer": "ipython3",
   "version": "3.5.2"
  }
 },
 "nbformat": 4,
 "nbformat_minor": 2
}
